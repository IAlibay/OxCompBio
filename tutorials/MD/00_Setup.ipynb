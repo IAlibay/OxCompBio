{
 "cells": [
  {
   "cell_type": "markdown",
   "metadata": {},
   "source": [
    "# 0. Setup instructions for the MD course"
   ]
  },
  {
   "cell_type": "markdown",
   "metadata": {},
   "source": [
    "This notebook contains the necessary instructions to make sure you have the correct software installed in order to complete the MD course.\n",
    "\n",
    "We assume here that you first looked at the `setup.md` prior to opening this notebook. If not, please do so now."
   ]
  },
  {
   "cell_type": "markdown",
   "metadata": {},
   "source": [
    "## Using ARCUS-HTC"
   ]
  },
  {
   "cell_type": "markdown",
   "metadata": {},
   "source": [
    "In this course we will be using Oxford's Andvanced Research Computing high performance cluster ARCUS-HTC in order to run GROMACS simulations.\n",
    "\n",
    "We suggest that you have a look at the [Quick Start Guide](https://www.arc.ox.ac.uk/getting-started-guide) before continuing. These instructions will repeat some of the basic details of the guide, but in much less detail."
   ]
  },
  {
   "cell_type": "markdown",
   "metadata": {},
   "source": [
    "### Getting an ARC account"
   ]
  },
  {
   "cell_type": "markdown",
   "metadata": {},
   "source": [
    "< To be completed once ARC provides the temporary guest account details >"
   ]
  },
  {
   "cell_type": "markdown",
   "metadata": {},
   "source": [
    "### Connecting to ARCUS-HTC"
   ]
  },
  {
   "cell_type": "markdown",
   "metadata": {},
   "source": [
    "**Note: in order to connect to the ARC computers you must be logged into the University VPN**\n",
    "\n",
    "As detailed in the [Quick Start Guide](https://www.arc.ox.ac.uk/getting-started-guide) access to ARCUS-HTC is achieved via the \"secure shell\" (SSH) protocol.\n",
    "\n",
    "SSH essentially allows you to securely access another computer via a network (i.e. the internet).\n",
    "\n",
    "Generally when using a machine line ARCUS-HTC, SSH access is achieved through the use of a terminal."
   ]
  },
  {
   "cell_type": "markdown",
   "metadata": {},
   "source": [
    "### linux/macOS\n",
    "\n",
    "On linux/macOS this can be done directly from the built-in terminal through the `ssh` command:\n",
    "\n",
    "```\n",
    "ssh username@oscgate.arc.ox.ac.uk \n",
    "```\n",
    "\n",
    "Where `username` is your login account username. On login, you should then follow with:\n",
    "\n",
    "```\n",
    "ssh arcus-htc\n",
    "```\n",
    "\n",
    "On first login you will get a message with similar wording to:\n",
    "\n",
    "`The authenticity of host 'arcus-htc (10.137.128.21)' can't be established. RSA key fingerprint is d1:83:21:b1:f2:bd:???:cd:74:d1:73:???:?a., Are you sure you want to continue connecting (yes/no)?`\n",
    "\n",
    "In this case this is perfectly normal, please type `yes` and press \"Enter\".\n",
    "\n",
    "If successfull you should find yourself in your home directory on the ARCUS-HTC computer.\n",
    "\n",
    "Typing:\n",
    "\n",
    "```\n",
    "pwd\n",
    "```\n",
    "\n",
    "Should return: `/home/username` where `username` is your account username.\n",
    "\n",
    "This is sufficient verification that your account works, you can now close your connection by typing:\n",
    "```\n",
    "exit\n",
    "```\n",
    "twice, pressing enter after each time."
   ]
  },
  {
   "cell_type": "markdown",
   "metadata": {},
   "source": [
    "### Windows\n",
    "\n",
    "To complete once I have my account back"
   ]
  },
  {
   "cell_type": "code",
   "execution_count": null,
   "metadata": {},
   "outputs": [],
   "source": [
    "## VMD"
   ]
  }
 ],
 "metadata": {
  "kernelspec": {
   "display_name": "Python 3",
   "language": "python",
   "name": "python3"
  },
  "language_info": {
   "codemirror_mode": {
    "name": "ipython",
    "version": 3
   },
   "file_extension": ".py",
   "mimetype": "text/x-python",
   "name": "python",
   "nbconvert_exporter": "python",
   "pygments_lexer": "ipython3",
   "version": "3.7.7"
  }
 },
 "nbformat": 4,
 "nbformat_minor": 4
}
